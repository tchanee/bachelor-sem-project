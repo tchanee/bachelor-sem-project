{
 "cells": [
  {
   "cell_type": "code",
   "execution_count": 1,
   "metadata": {
    "pycharm": {
     "name": "#%%\n"
    }
   },
   "outputs": [],
   "source": [
    "from imutils import face_utils\n",
    "import dlib\n",
    "import cv2\n",
    "import os\n",
    "import numpy as np\n",
    "from matplotlib import pyplot as plt"
   ]
  },
  {
   "cell_type": "code",
   "execution_count": 2,
   "metadata": {
    "pycharm": {
     "name": "#%%\n"
    }
   },
   "outputs": [],
   "source": [
    "p = \"shape_predictor_68_face_landmarks.dat\"\n",
    "detector = dlib.get_frontal_face_detector()\n",
    "predictor = dlib.shape_predictor(p)\n",
    "outputPath = '../output/'\n",
    "dbPath = '../faces/'"
   ]
  },
  {
   "cell_type": "code",
   "execution_count": 3,
   "metadata": {
    "pycharm": {
     "name": "#%%\n"
    }
   },
   "outputs": [],
   "source": [
    "def oklesgo():\n",
    "    for filePath in sorted(os.listdir(outputPath)):\n",
    "\n",
    "        if filePath.endswith(\".jpg\"):\n",
    "            print(outputPath)\n",
    "            print(filePath)\n",
    "            image = cv2.imread(os.path.join(outputPath, filePath))\n",
    "            # convert to floating point?\n",
    "            # image = np.float32(image) / 255.0\n",
    "\n",
    "            # image = imutils.resize(image, 600, 600)\n",
    "            rgb = cv2.cvtColor(image, cv2.COLOR_BGR2RGB)\n",
    "            grey = cv2.cvtColor(image, cv2.COLOR_BGR2GRAY)\n",
    "\n",
    "            rects = detector(rgb, 0)\n",
    "            rects2 = detector(grey, 0)\n",
    "            print(\"Number of faces detected: {}\".format(len(rects2)))\n",
    "            for i, d in enumerate(rects2):\n",
    "                print(\"Detection {}: Left: {} Top: {} Right: {} Bottom: {}\".format(\n",
    "                    i, d.left(), d.top(), d.right(), d.bottom()))\n",
    "            rect = rects[0]\n",
    "            rect2 = rects2[0]\n",
    "            landmarks = predictor(rgb, rect)\n",
    "            landmarks = face_utils.shape_to_np(landmarks)  # these are the 68 landmarks\n",
    "            # print(landmarks)\n",
    "            landmarks2 = predictor(grey, rect2)\n",
    "            landmarks2 = face_utils.shape_to_np(landmarks2)\n",
    "            # print(len(landmarks2))\n",
    "            # print(landmarks2)  # this seems more accurate!\n",
    "            newName = outputPath + filePath + \"G.txt\"\n",
    "            print(newName)\n",
    "            file_object = open(newName, \"w\")\n",
    "            np.savetxt(file_object, landmarks2, fmt=\"%d\", delimiter=\" \")\n",
    "            file_object.close()"
   ]
  },
  {
   "cell_type": "code",
   "execution_count": 4,
   "metadata": {
    "pycharm": {
     "name": "#%%\n"
    }
   },
   "outputs": [],
   "source": [
    "def read_output_txt(name):\n",
    "    # landmarks = np.loadtxt(name, dtype=int, delimiter='\\n')\n",
    "    # file = open(name, \"r\")\n",
    "    # landmarks = list(map(int, file.read().split(\"\\n\")))\n",
    "    img = cv2.imread(name)\n",
    "    grey = cv2.cvtColor(img, cv2.COLOR_BGR2GRAY)\n",
    "    rects2 = detector(grey, 0)\n",
    "    rect2 = rects2[0]\n",
    "    landmarks2 = predictor(grey, rect2)\n",
    "    landmarks2 = face_utils.shape_to_np(landmarks2)\n",
    "\n",
    "    return landmarks2"
   ]
  },
  {
   "cell_type": "code",
   "execution_count": 5,
   "metadata": {
    "pycharm": {
     "name": "#%%\n"
    }
   },
   "outputs": [],
   "source": [
    "def euclidean_distance(arr1, arr2):\n",
    "    return np.sqrt((arr1[0] - arr2[0]) ** 2 + (arr1[1] - arr2[1]) ** 2)"
   ]
  },
  {
   "cell_type": "code",
   "execution_count": 6,
   "metadata": {
    "pycharm": {
     "name": "#%%\n"
    }
   },
   "outputs": [],
   "source": [
    "# Read points from text files in directory\n",
    "def readPoints(path):\n",
    "    # Create an array of array of points.\n",
    "    pointsArray = []\n",
    "\n",
    "    # List all files in the directory and read points from text files one by one\n",
    "    for filePath in sorted(os.listdir(path)):\n",
    "\n",
    "        if filePath.endswith(\"G.txt\"):\n",
    "\n",
    "            # Create an array of points.\n",
    "            points = []\n",
    "\n",
    "            # Read points from filePath\n",
    "            with open(os.path.join(path, filePath)) as file:\n",
    "                for line in file:\n",
    "                    x, y = line.split()\n",
    "                    points.append((int(x), int(y)))\n",
    "\n",
    "            # Store array of points\n",
    "            pointsArray.append(points)\n",
    "\n",
    "    return pointsArray"
   ]
  },
  {
   "cell_type": "code",
   "execution_count": 7,
   "metadata": {
    "pycharm": {
     "name": "#%%\n"
    }
   },
   "outputs": [],
   "source": [
    "# Read all jpg images in folder.\n",
    "def readImages(path):\n",
    "    # Create array of array of images.\n",
    "    imagesArray = []\n",
    "\n",
    "    # List all files in the directory and read points from text files one by one\n",
    "    for filePath in sorted(os.listdir(path)):\n",
    "\n",
    "        if filePath.endswith(\".jpg\"):\n",
    "            # Read image found.\n",
    "            img = cv2.imread(os.path.join(path, filePath))\n",
    "\n",
    "            # Convert to floating point\n",
    "            img = np.float32(img) / 255.0\n",
    "\n",
    "            # Add to array of images\n",
    "            imagesArray.append(img)\n",
    "\n",
    "    return imagesArray"
   ]
  },
  {
   "cell_type": "code",
   "execution_count": 8,
   "metadata": {
    "pycharm": {
     "name": "#%%\n"
    }
   },
   "outputs": [],
   "source": [
    "def outputStats():\n",
    "    landmarks1 = read_output_txt(\"../output/output1.jpg\")\n",
    "    landmarks2 = read_output_txt(\"../output/output2.jpg\")\n",
    "    landmarks3 = read_output_txt(\"../output/output3.jpg\")\n",
    "\n",
    "    # Some statistics that might be interesting:\n",
    "    # Face width: distance of points 6-12, 1-17, 3-15,\n",
    "    # Face length: 8-22 , 10-23\n",
    "    # Mouth width: 49-55\n",
    "    # Mouth length: 52-58\n",
    "\n",
    "    bottom_face_width_array = []\n",
    "    top_face_width_array = []\n",
    "    middle_face_width_array = []\n",
    "    left_eye_face_length_array = []\n",
    "    right_eye_face_length_array = []\n",
    "    mouth_width_array = []\n",
    "    mouth_length_array = []\n",
    "\n",
    "    # Face width\n",
    "    bottom_face_width1 = euclidean_distance(landmarks1[5], landmarks1[11])\n",
    "    bottom_face_width_array.append(bottom_face_width1)\n",
    "\n",
    "    top_face_width1 = euclidean_distance(landmarks1[0], landmarks1[16])\n",
    "    top_face_width_array.append(top_face_width1)\n",
    "\n",
    "    middle_face_width1 = euclidean_distance(landmarks1[2], landmarks1[14])\n",
    "    middle_face_width_array.append(middle_face_width1)\n",
    "\n",
    "    # Face length\n",
    "    left_eye_face_length1 = euclidean_distance(landmarks1[7], landmarks1[21])\n",
    "    left_eye_face_length_array.append(left_eye_face_length1)\n",
    "\n",
    "    right_eye_face_length1 = euclidean_distance(landmarks1[9], landmarks1[22])\n",
    "    right_eye_face_length_array.append(right_eye_face_length1)\n",
    "\n",
    "    # Mouth width && length\n",
    "    mouth_width1 = euclidean_distance(landmarks1[48], landmarks1[54])\n",
    "    mouth_width_array.append(mouth_width1)\n",
    "\n",
    "    mouth_length1 = euclidean_distance(landmarks1[51], landmarks1[57])\n",
    "    mouth_length_array.append(mouth_length1)\n",
    "\n",
    "    # Face width\n",
    "    bottom_face_width2 = euclidean_distance(landmarks2[5], landmarks2[11])\n",
    "    bottom_face_width_array.append(bottom_face_width2)\n",
    "\n",
    "    top_face_width2 = euclidean_distance(landmarks2[0], landmarks2[16])\n",
    "    top_face_width_array.append(top_face_width2)\n",
    "\n",
    "    middle_face_width2 = euclidean_distance(landmarks2[2], landmarks2[14])\n",
    "    middle_face_width_array.append(middle_face_width2)\n",
    "\n",
    "    # Face length\n",
    "    left_eye_face_length2 = euclidean_distance(landmarks2[7], landmarks2[21])\n",
    "    left_eye_face_length_array.append(left_eye_face_length2)\n",
    "\n",
    "    right_eye_face_length2 = euclidean_distance(landmarks2[9], landmarks2[22])\n",
    "    right_eye_face_length_array.append(right_eye_face_length2)\n",
    "\n",
    "    # Mouth width && length\n",
    "    mouth_width2 = euclidean_distance(landmarks2[48], landmarks2[54])\n",
    "    mouth_width_array.append(mouth_width2)\n",
    "\n",
    "    mouth_length2 = euclidean_distance(landmarks2[51], landmarks2[57])\n",
    "    mouth_length_array.append(mouth_length2)\n",
    "\n",
    "    # Face width\n",
    "    bottom_face_width3 = euclidean_distance(landmarks3[5], landmarks3[11])\n",
    "    bottom_face_width_array.append(bottom_face_width3)\n",
    "\n",
    "    top_face_width3 = euclidean_distance(landmarks3[0], landmarks3[16])\n",
    "    top_face_width_array.append(top_face_width3)\n",
    "\n",
    "    middle_face_width3 = euclidean_distance(landmarks3[2], landmarks3[14])\n",
    "    middle_face_width_array.append(middle_face_width3)\n",
    "\n",
    "    # Face length\n",
    "    left_eye_face_length3 = euclidean_distance(landmarks3[7], landmarks3[21])\n",
    "    left_eye_face_length_array.append(left_eye_face_length3)\n",
    "\n",
    "    right_eye_face_length3 = euclidean_distance(landmarks3[9], landmarks3[22])\n",
    "    right_eye_face_length_array.append(right_eye_face_length3)\n",
    "\n",
    "    # Mouth width && length\n",
    "    mouth_width3 = euclidean_distance(landmarks3[48], landmarks3[54])\n",
    "    mouth_width_array.append(mouth_width3)\n",
    "\n",
    "    mouth_length3 = euclidean_distance(landmarks3[51], landmarks3[57])\n",
    "    mouth_length_array.append(mouth_length3)\n",
    "\n",
    "    # Calculating the means\n",
    "    bottom_face_width_mean = np.mean(bottom_face_width_array)\n",
    "    top_face_width_mean = np.mean(top_face_width_array)\n",
    "    middle_face_width_mean = np.mean(middle_face_width_array)\n",
    "    left_eye_face_length_mean = np.mean(left_eye_face_length_array)\n",
    "    right_eye_face_length_mean = np.mean(right_eye_face_length_array)\n",
    "    mouth_width_mean = np.mean(mouth_width_array)\n",
    "    mouth_length_mean = np.mean(mouth_length_array)\n",
    "\n",
    "    # Calculating the variances\n",
    "    bottom_face_width_var = np.var(bottom_face_width_array)\n",
    "    top_face_width_var = np.var(top_face_width_array)\n",
    "    middle_face_width_var = np.var(middle_face_width_array)\n",
    "    left_eye_face_length_var = np.var(left_eye_face_length_array)\n",
    "    right_eye_face_length_var = np.var(right_eye_face_length_array)\n",
    "    mouth_width_var = np.var(mouth_width_array)\n",
    "    mouth_length_var = np.var(mouth_length_array)"
   ]
  },
  {
   "cell_type": "code",
   "execution_count": 9,
   "metadata": {
    "pycharm": {
     "name": "#%%\n"
    }
   },
   "outputs": [],
   "source": [
    "def calculate1FaceStats(person, i, j):\n",
    "    # Some statistics that might be interesting:\n",
    "    # Face width: distance of points 6-12, 1-17, 3-15,\n",
    "    # Face length: 8-22 , 10-23\n",
    "    # Mouth width: 49-55\n",
    "    # Mouth length: 52-58\n",
    "    return euclidean_distance(person[i], person[j])"
   ]
  },
  {
   "cell_type": "code",
   "execution_count": 9,
   "metadata": {
    "pycharm": {
     "name": "#%%\n"
    }
   },
   "outputs": [],
   "source": []
  },
  {
   "cell_type": "code",
   "execution_count": 10,
   "metadata": {
    "pycharm": {
     "name": "#%%\n"
    }
   },
   "outputs": [
    {
     "data": {
      "text/plain": [
       "[[651.0007680487021,\n",
       "  537.3313688963264,\n",
       "  862.0980222689296,\n",
       "  322.18783341398847,\n",
       "  84.0535543567314,\n",
       "  440.29081298614443,\n",
       "  257.0175091311874,\n",
       "  862.0980222689296,\n",
       "  507.98622028555064],\n",
       " [620.1161181585268,\n",
       "  515.469688730579,\n",
       "  822.1027916264486,\n",
       "  311.3149530620076,\n",
       "  81.02468759581859,\n",
       "  415.1457575358322,\n",
       "  246.00203251192866,\n",
       "  822.1027916264486,\n",
       "  492.70883897084695],\n",
       " [433.6104242289385,\n",
       "  333.0,\n",
       "  595.0680633339349,\n",
       "  213.39634486091836,\n",
       "  60.00833275470999,\n",
       "  293.01535795927146,\n",
       "  171.00292395160966,\n",
       "  595.0680633339349,\n",
       "  380.52595180880894],\n",
       " [623.4163937530036,\n",
       "  473.2958905378326,\n",
       "  800.3905296791061,\n",
       "  308.0795351853154,\n",
       "  80.50465825031493,\n",
       "  391.0051150560565,\n",
       "  236.47621444872632,\n",
       "  800.3905296791061,\n",
       "  477.0167711936342],\n",
       " [611.0613717131856,\n",
       "  476.66550116407626,\n",
       "  798.0538828926277,\n",
       "  307.35809733924367,\n",
       "  80.09993757800315,\n",
       "  396.4605907275022,\n",
       "  239.35329536064467,\n",
       "  798.0538828926277,\n",
       "  477.4149138851865],\n",
       " [120.06664815842908,\n",
       "  64.1248781675256,\n",
       "  95.0,\n",
       "  40.19950248448356,\n",
       "  15.0,\n",
       "  33.06055050963308,\n",
       "  24.186773244895647,\n",
       "  95.0,\n",
       "  67.47592163134935],\n",
       " [327.2201094064972,\n",
       "  193.43732835210477,\n",
       "  327.00152904841286,\n",
       "  136.09188072769072,\n",
       "  41.012193308819754,\n",
       "  168.14577009250038,\n",
       "  111.07204868912791,\n",
       "  327.00152904841286,\n",
       "  236.1228493814184]]"
      ]
     },
     "execution_count": 10,
     "metadata": {},
     "output_type": "execute_result"
    },
    {
     "data": {
      "image/png": "[encoded data removed]",
      "text/plain": [
       "<Figure size 432x288 with 1 Axes>"
      ]
     },
     "metadata": {
      "needs_background": "light"
     },
     "output_type": "display_data"
    }
   ],
   "source": [
    "def dbStats():\n",
    "    # Array of array of points (numImages * 68)\n",
    "    dbPoints = readPoints(dbPath)\n",
    "\n",
    "    images = readImages(dbPath)\n",
    "    numImages = len(images)\n",
    "\n",
    "    allStats = []\n",
    "\n",
    "    bottom_face_width_array = []\n",
    "    top_face_width_array = []\n",
    "    middle_face_width_array = []\n",
    "    left_eye_face_length_array = []\n",
    "    right_eye_face_length_array = []\n",
    "    mouth_width_array = []\n",
    "    mouth_length_array = []\n",
    "\n",
    "    for i in range(0, numImages):\n",
    "        person_i = dbPoints[i]\n",
    "\n",
    "        top_face_width = calculate1FaceStats(person_i, 0, 16)\n",
    "        top_face_width_array.append(top_face_width)\n",
    "\n",
    "        middle_face_width = calculate1FaceStats(person_i, 2, 14)\n",
    "        middle_face_width_array.append(middle_face_width)\n",
    "\n",
    "        bottom_face_width = calculate1FaceStats(person_i, 5, 11)\n",
    "        bottom_face_width_array.append(bottom_face_width)\n",
    "\n",
    "        left_eye_face_length = calculate1FaceStats(person_i, 7, 21)\n",
    "        left_eye_face_length_array.append(left_eye_face_length)\n",
    "\n",
    "        right_eye_face_length = calculate1FaceStats(person_i, 9, 22)\n",
    "        right_eye_face_length_array.append(right_eye_face_length)\n",
    "\n",
    "        mouth_width = calculate1FaceStats(person_i, 48, 54)\n",
    "        mouth_width_array.append(mouth_width)\n",
    "\n",
    "        mouth_length = calculate1FaceStats(person_i, 51, 57)\n",
    "        mouth_length_array.append(mouth_length)\n",
    "\n",
    "    # top_face_plot = plt.boxplot(top_face_width_array)\n",
    "    # mid_face_plot = plt.boxplot(middle_face_width_array)\n",
    "    # bot_face_plot = plt.boxplot(bottom_face_width_array)\n",
    "    allStats.append(top_face_width_array)\n",
    "    allStats.append(middle_face_width_array)\n",
    "    allStats.append(bottom_face_width_array)\n",
    "    allStats.append(left_eye_face_length_array)\n",
    "    allStats.append(right_eye_face_length_array)\n",
    "    allStats.append(mouth_length_array)\n",
    "    allStats.append(mouth_width_array)\n",
    "    bp = plt.boxplot(allStats)\n",
    "    plt.ylabel(\"Distance (unit = 1 pixel)\")\n",
    "    plt.xlabel(\"Distributions of the 7 calculated statistics, in respective order\")\n",
    "    # plt.legend([bp[0], bp[1], bp[2], bp[3], bp[4], bp[5], bp[6] ], ['a', 'b','c','d','e','f', 'g'], loc = 'upper right')\n",
    "    return allStats\n",
    "\n",
    "dbStats()"
   ]
  },
  {
   "cell_type": "code",
   "execution_count": 11,
   "metadata": {
    "pycharm": {
     "name": "#%%\n"
    }
   },
   "outputs": [],
   "source": [
    "def distance_ratio(mean, new):\n",
    "    return abs(mean - new) / mean"
   ]
  },
  {
   "cell_type": "code",
   "execution_count": 12,
   "metadata": {
    "pycharm": {
     "name": "#%%\n"
    }
   },
   "outputs": [
    {
     "name": "stdout",
     "output_type": "stream",
     "text": [
      "[0.2656560105310029, 0.28408038688334236, 0.2974365201552327, 0.2027520074649868, 0.2018245440029649, 0.3646853252579803, 0.28659618491157945]\n",
      "[0.2018245440029649, 0.2027520074649868, 0.2656560105310029, 0.28408038688334236, 0.28659618491157945, 0.2974365201552327, 0.3646853252579803]\n",
      "0.3646853252579803 (array([5]),) 7\n",
      "39.11521443121589 61.56825268847959\n",
      "-38.75052910595791\n",
      "239.7213127474801\n"
     ]
    },
    {
     "data": {
      "image/png": "[encoded data removed]",
      "text/plain": [
       "<Figure size 432x288 with 1 Axes>"
      ]
     },
     "metadata": {
      "needs_background": "light"
     },
     "output_type": "display_data"
    }
   ],
   "source": [
    "# oklesgo()\n",
    "# outputStats()\n",
    "allStats = dbStats()\n",
    "\n",
    "# Zucc's turn\n",
    "zuccmark = read_output_txt(\"../output/tformed_zucc.jpg\")\n",
    "\n",
    "zucc_top_face_width = euclidean_distance(zuccmark[0], zuccmark[16])\n",
    "zucc_bottom_face_width = euclidean_distance(zuccmark[5], zuccmark[11])\n",
    "zucc_middle_face_width = euclidean_distance(zuccmark[2], zuccmark[14])\n",
    "# Face length\n",
    "zucc_left_eye_face_length = euclidean_distance(zuccmark[7], zuccmark[21])\n",
    "zucc_right_eye_face_length = euclidean_distance(zuccmark[9], zuccmark[22])\n",
    "# Mouth width && length\n",
    "zucc_mouth_length = euclidean_distance(zuccmark[51], zuccmark[57])\n",
    "zucc_mouth_width = euclidean_distance(zuccmark[48], zuccmark[54])\n",
    "\n",
    "ratios = []\n",
    "top_face_ratio = distance_ratio(np.mean(allStats[0]), zucc_top_face_width)\n",
    "ratios.append(top_face_ratio)\n",
    "middle_face_ratio = distance_ratio(np.mean(allStats[1]), zucc_middle_face_width)\n",
    "ratios.append(middle_face_ratio)\n",
    "bottom_face_ratio = distance_ratio(np.mean(allStats[2]), zucc_bottom_face_width)\n",
    "ratios.append(bottom_face_ratio)\n",
    "left_eye_ratio = distance_ratio(np.mean(allStats[3]), zucc_left_eye_face_length)\n",
    "ratios.append(left_eye_ratio)\n",
    "right_eye_ratio = distance_ratio(np.mean(allStats[4]), zucc_right_eye_face_length)\n",
    "ratios.append(right_eye_ratio)\n",
    "mouth_length_ratio = distance_ratio(np.mean(allStats[5]), zucc_mouth_length)\n",
    "ratios.append(mouth_length_ratio)\n",
    "mouth_width_ratio = distance_ratio(np.mean(allStats[6]), zucc_mouth_width)\n",
    "ratios.append(mouth_width_ratio)\n",
    "\n",
    "print(ratios)\n",
    "print(sorted(ratios))\n",
    "\n",
    "maxRatio = np.amax(ratios)\n",
    "index = np.where(ratios == maxRatio)\n",
    "#index = 5 so mouth length is the biggest difference!\n",
    "print(maxRatio, index, len(ratios))\n",
    "print(zucc_mouth_length, np.mean(allStats[5]))\n",
    "print(ratios[5] - zucc_mouth_length)\n",
    "\n",
    "#Found that mouth is bigger than average\n",
    "\n",
    "# What's his second biggest? the bottom of his face > than average.\n",
    "print(zucc_bottom_face_width - bottom_face_ratio)"
   ]
  },
  {
   "cell_type": "code",
   "execution_count": 13,
   "metadata": {
    "pycharm": {
     "name": "#%%"
    }
   },
   "outputs": [
    {
     "name": "stdout",
     "output_type": "stream",
     "text": [
      "[0.1246446700922542, 0.14908587379757793, 0.11599062886628429, 0.10404823590289156, 0.1093652274601553, 0.20413528303412956, 0.21909716292583498]\n",
      "[0.10404823590289156, 0.1093652274601553, 0.11599062886628429, 0.1246446700922542, 0.14908587379757793, 0.20413528303412956, 0.21909716292583498]\n",
      "0.21909716292583498 (array([6]),) 7\n",
      "162.00308639035245 207.456137561665\n",
      "-161.78398922742662\n",
      "301.8906318150795\n"
     ]
    },
    {
     "data": {
      "image/png": "[encoded data removed]",
      "text/plain": [
       "<Figure size 432x288 with 1 Axes>"
      ]
     },
     "metadata": {
      "needs_background": "light"
     },
     "output_type": "display_data"
    }
   ],
   "source": [
    "# oklesgo()\n",
    "# outputStats()\n",
    "allStats = dbStats()\n",
    "\n",
    "# Musk's turn\n",
    "zuccmark = read_output_txt(\"../output/tformed_musk.jpg\")\n",
    "\n",
    "zucc_top_face_width = euclidean_distance(zuccmark[0], zuccmark[16])\n",
    "zucc_bottom_face_width = euclidean_distance(zuccmark[5], zuccmark[11])\n",
    "zucc_middle_face_width = euclidean_distance(zuccmark[2], zuccmark[14])\n",
    "# Face length\n",
    "zucc_left_eye_face_length = euclidean_distance(zuccmark[7], zuccmark[21])\n",
    "zucc_right_eye_face_length = euclidean_distance(zuccmark[9], zuccmark[22])\n",
    "# Mouth width && length\n",
    "zucc_mouth_length = euclidean_distance(zuccmark[51], zuccmark[57])\n",
    "zucc_mouth_width = euclidean_distance(zuccmark[48], zuccmark[54])\n",
    "\n",
    "musk_ratios = []\n",
    "top_face_ratio = distance_ratio(np.mean(allStats[0]), zucc_top_face_width)\n",
    "musk_ratios.append(top_face_ratio)\n",
    "middle_face_ratio = distance_ratio(np.mean(allStats[1]), zucc_middle_face_width)\n",
    "musk_ratios.append(middle_face_ratio)\n",
    "bottom_face_ratio = distance_ratio(np.mean(allStats[2]), zucc_bottom_face_width)\n",
    "musk_ratios.append(bottom_face_ratio)\n",
    "left_eye_ratio = distance_ratio(np.mean(allStats[3]), zucc_left_eye_face_length)\n",
    "musk_ratios.append(left_eye_ratio)\n",
    "right_eye_ratio = distance_ratio(np.mean(allStats[4]), zucc_right_eye_face_length)\n",
    "musk_ratios.append(right_eye_ratio)\n",
    "mouth_length_ratio = distance_ratio(np.mean(allStats[5]), zucc_mouth_length)\n",
    "musk_ratios.append(mouth_length_ratio)\n",
    "mouth_width_ratio = distance_ratio(np.mean(allStats[6]), zucc_mouth_width)\n",
    "musk_ratios.append(mouth_width_ratio)\n",
    "\n",
    "print(musk_ratios)\n",
    "print(sorted(musk_ratios))\n",
    "\n",
    "maxRatio = np.amax(musk_ratios)\n",
    "index = np.where(musk_ratios == maxRatio)\n",
    "#index = 6 so mouth width is the biggest difference!\n",
    "print(maxRatio, index, len(musk_ratios))\n",
    "print(zucc_mouth_width, np.mean(allStats[6]))\n",
    "print(musk_ratios[6] - zucc_mouth_width)\n",
    "## IMMA JUST SAY THAT HIS FOREHEAD BIG\n",
    "#Found that mouth is bigger than average\n",
    "\n",
    "# What's his second biggest? the bottom of his face > than average.\n",
    "print(zucc_bottom_face_width - bottom_face_ratio)"
   ]
  },
  {
   "cell_type": "markdown",
   "metadata": {
    "pycharm": {
     "name": "#%% md\n"
    }
   },
   "source": [
    "### Women test"
   ]
  },
  {
   "cell_type": "code",
   "execution_count": 14,
   "metadata": {
    "pycharm": {
     "name": "#%%\n"
    }
   },
   "outputs": [
    {
     "name": "stdout",
     "output_type": "stream",
     "text": [
      "[0.20225602501907372, 0.23855254473904983, 0.2593463010658082, 0.29738153425769653, 0.298791780821663, 0.23644678805430702, 0.28657990031349506]\n",
      "[0.20225602501907372, 0.23644678805430702, 0.23855254473904983, 0.2593463010658082, 0.28657990031349506, 0.29738153425769653, 0.298791780821663]\n",
      "0.298791780821663 (array([4]),) 7\n",
      "326.02453895374197 464.94683039478855\n",
      "-325.7257471729203\n",
      "252.7722722765341\n"
     ]
    },
    {
     "data": {
      "image/png": "[encoded data removed]",
      "text/plain": [
       "<Figure size 432x288 with 1 Axes>"
      ]
     },
     "metadata": {
      "needs_background": "light"
     },
     "output_type": "display_data"
    }
   ],
   "source": [
    "# oklesgo()\n",
    "# outputStats()\n",
    "allStats = dbStats()\n",
    "\n",
    "# Zucc's turn\n",
    "zuccmark = read_output_txt(\"../output/tformed_woman.jpg\")\n",
    "\n",
    "zucc_top_face_width = euclidean_distance(zuccmark[0], zuccmark[16])\n",
    "zucc_bottom_face_width = euclidean_distance(zuccmark[5], zuccmark[11])\n",
    "zucc_middle_face_width = euclidean_distance(zuccmark[2], zuccmark[14])\n",
    "# Face length\n",
    "zucc_left_eye_face_length = euclidean_distance(zuccmark[7], zuccmark[21])\n",
    "zucc_right_eye_face_length = euclidean_distance(zuccmark[9], zuccmark[22])\n",
    "# Mouth width && length\n",
    "zucc_mouth_length = euclidean_distance(zuccmark[51], zuccmark[57])\n",
    "zucc_mouth_width = euclidean_distance(zuccmark[48], zuccmark[54])\n",
    "\n",
    "ratios = []\n",
    "top_face_ratio = distance_ratio(np.mean(allStats[0]), zucc_top_face_width)\n",
    "ratios.append(top_face_ratio)\n",
    "middle_face_ratio = distance_ratio(np.mean(allStats[1]), zucc_middle_face_width)\n",
    "ratios.append(middle_face_ratio)\n",
    "bottom_face_ratio = distance_ratio(np.mean(allStats[2]), zucc_bottom_face_width)\n",
    "ratios.append(bottom_face_ratio)\n",
    "left_eye_ratio = distance_ratio(np.mean(allStats[3]), zucc_left_eye_face_length)\n",
    "ratios.append(left_eye_ratio)\n",
    "right_eye_ratio = distance_ratio(np.mean(allStats[4]), zucc_right_eye_face_length)\n",
    "ratios.append(right_eye_ratio)\n",
    "mouth_length_ratio = distance_ratio(np.mean(allStats[5]), zucc_mouth_length)\n",
    "ratios.append(mouth_length_ratio)\n",
    "mouth_width_ratio = distance_ratio(np.mean(allStats[6]), zucc_mouth_width)\n",
    "ratios.append(mouth_width_ratio)\n",
    "\n",
    "print(ratios)\n",
    "print(sorted(ratios))\n",
    "maxRatio = np.amax(ratios)\n",
    "index = np.where(ratios == maxRatio)\n",
    "#index = 4 so right eye ratio is the biggest difference!\n",
    "print(maxRatio, index, len(ratios))\n",
    "print(zucc_right_eye_face_length, np.mean(allStats[4]))\n",
    "print(ratios[4] - zucc_right_eye_face_length) ## The scale of the difference is bigger for women, upto ~30% scale difference in the order of magnitude of the difference\n",
    "\n",
    "#Found that mouth is bigger than average\n",
    "\n",
    "# What's his second biggest? the bottom of his face > than average.\n",
    "print(zucc_bottom_face_width - bottom_face_ratio)"
   ]
  },
  {
   "cell_type": "markdown",
   "metadata": {
    "pycharm": {
     "name": "#%% md\n"
    }
   },
   "source": [
    "### Trying to measure overall how different the new input face is vs the average (absolute vs +/- also)\n",
    "Idea:\n",
    "- Sum up all of the differences between the average face and the individual faces\n",
    "- in 2 modes: actual difference vs absolute difference\n",
    "- Is this helpful?"
   ]
  },
  {
   "cell_type": "code",
   "execution_count": 14,
   "metadata": {
    "pycharm": {
     "name": "#%%\n"
    }
   },
   "outputs": [],
   "source": []
  },
  {
   "cell_type": "code",
   "execution_count": 14,
   "metadata": {
    "pycharm": {
     "name": "#%%\n"
    }
   },
   "outputs": [],
   "source": []
  }
 ],
 "metadata": {
  "kernelspec": {
   "display_name": "Python 3 (ipykernel)",
   "language": "python",
   "name": "python3"
  },
  "language_info": {
   "codemirror_mode": {
    "name": "ipython",
    "version": 3
   },
   "file_extension": ".py",
   "mimetype": "text/x-python",
   "name": "python",
   "nbconvert_exporter": "python",
   "pygments_lexer": "ipython3",
   "version": "3.9.7"
  }
 },
 "nbformat": 4,
 "nbformat_minor": 4
}
