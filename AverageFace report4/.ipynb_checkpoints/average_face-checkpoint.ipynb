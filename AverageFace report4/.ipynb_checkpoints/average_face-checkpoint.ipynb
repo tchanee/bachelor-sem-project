{
 "cells": [
  {
   "cell_type": "markdown",
   "id": "79154a58-ba2f-4c01-9ba3-a4751a7ff6e6",
   "metadata": {},
   "source": [
    "### This week's tasks\n",
    "This week I will be trying to compute an average face of a set of given pictures, using opencv.\n",
    "\n",
    "The scripts written will be stored in the `/scripts/` folder, and the images in `/faces/`"
   ]
  },
  {
   "cell_type": "markdown",
   "id": "61d8d4eb-670d-4f5d-a6f9-27857dd5aae8",
   "metadata": {},
   "source": [
    "#### Useful links\n",
    "- [dlib face landmarks to txt file](https://github.com/spmallick/dlib/blob/master/examples/face_landmark_detection_to_file.cpp)\n",
    "- [faceAverage1](https://github.com/spmallick/learnopencv/tree/master/FaceAverage) + [its article](https://learnopencv.com/average-face-opencv-c-python-tutorial/)\n",
    "- [faceAverage2](https://github.com/stekhn/average-faces-opencv) \n",
    "\n",
    "#### Datasets available at Idiap:\n",
    " - [Metfaces](https://github.com/NVlabs/metfaces-dataset/)\n",
    " - [FaceSynthetics](https://github.com/microsoft/FaceSynthetics)"
   ]
  },
  {
   "cell_type": "markdown",
   "id": "e8b3d71f-dd28-4b49-ad2f-967dfe400e87",
   "metadata": {},
   "source": [
    "There are 2 parts to what I'm doing: \n",
    "First, using c++ and dlib, convert an image into the 68 landmarks txt file (a couple examples in `/faces/`).\n",
    "\n",
    "Then, use the python script to normalize all the faces + calculate their average, output will be saved in `/output/` with the date as title (for future reference)"
   ]
  },
  {
   "cell_type": "code",
   "execution_count": null,
   "id": "36169db9-9d83-439d-bb67-69c231afc6ab",
   "metadata": {},
   "outputs": [],
   "source": [
    "from scripts.averageFace import *\n",
    "# readPoints('faces/')"
   ]
  },
  {
   "cell_type": "code",
   "execution_count": 1,
   "id": "438e680a-9d62-47bf-af87-b30aa79fb795",
   "metadata": {},
   "outputs": [
    {
     "name": "stdout",
     "output_type": "stream",
     "text": [
      "/home/tchanee/Documents/EPFL/BA6/Semester Project/AverageFace report4/scripts/averageFace.py:203: DeprecationWarning: `np.int` is a deprecated alias for the builtin `int`. To silence this warning, use `int` by itself. Doing this will not modify any behavior and is safe. When replacing `np.int`, you may wish to use e.g. `np.int64` or `np.int32` to specify the precision. If you wish to review your current use, check the release note link for additional information.\n",
      "Deprecated in NumPy 1.20; for more details and guidance: https://numpy.org/devdocs/release/1.20.0-notes.html#deprecations\n",
      "  eyecornerDst = [(np.int(0.3 * w), np.int(h / 3)), (np.int(0.7 * w), np.int(h / 3))]\n",
      "/home/tchanee/Documents/EPFL/BA6/Semester Project/AverageFace report4/scripts/averageFace.py:71: DeprecationWarning: `np.int` is a deprecated alias for the builtin `int`. To silence this warning, use `int` by itself. Doing this will not modify any behavior and is safe. When replacing `np.int`, you may wish to use e.g. `np.int64` or `np.int32` to specify the precision. If you wish to review your current use, check the release note link for additional information.\n",
      "Deprecated in NumPy 1.20; for more details and guidance: https://numpy.org/devdocs/release/1.20.0-notes.html#deprecations\n",
      "  inPts.append([np.int(xin), np.int(yin)])\n",
      "/home/tchanee/Documents/EPFL/BA6/Semester Project/AverageFace report4/scripts/averageFace.py:76: DeprecationWarning: `np.int` is a deprecated alias for the builtin `int`. To silence this warning, use `int` by itself. Doing this will not modify any behavior and is safe. When replacing `np.int`, you may wish to use e.g. `np.int64` or `np.int32` to specify the precision. If you wish to review your current use, check the release note link for additional information.\n",
      "Deprecated in NumPy 1.20; for more details and guidance: https://numpy.org/devdocs/release/1.20.0-notes.html#deprecations\n",
      "  outPts.append([np.int(xout), np.int(yout)])\n"
     ]
    }
   ],
   "source": [
    "# %run -i \"/scripts/averageFace.py\"\n",
    "%matplotlib inline\n",
    "!python 'scripts/averageFace.py'"
   ]
  },
  {
   "cell_type": "code",
   "execution_count": 2,
   "id": "680ad236-c6de-4fd5-a71f-f8cb2badaea5",
   "metadata": {},
   "outputs": [],
   "source": []
  },
  {
   "cell_type": "code",
   "execution_count": 2,
   "id": "9ab4f52b-c56b-40d0-b457-dd54320edd75",
   "metadata": {},
   "outputs": [],
   "source": []
  }
 ],
 "metadata": {
  "kernelspec": {
   "display_name": "Python 3 (ipykernel)",
   "language": "python",
   "name": "python3"
  },
  "language_info": {
   "codemirror_mode": {
    "name": "ipython",
    "version": 3
   },
   "file_extension": ".py",
   "mimetype": "text/x-python",
   "name": "python",
   "nbconvert_exporter": "python",
   "pygments_lexer": "ipython3",
   "version": "3.9.7"
  }
 },
 "nbformat": 4,
 "nbformat_minor": 5
}
