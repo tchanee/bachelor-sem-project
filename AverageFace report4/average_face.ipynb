{
 "cells": [
  {
   "cell_type": "markdown",
   "id": "79154a58-ba2f-4c01-9ba3-a4751a7ff6e6",
   "metadata": {},
   "source": [
    "### This week's tasks\n",
    "This week I will be trying to compute an average face of a set of given pictures, using opencv.\n",
    "\n",
    "The scripts written will be stored in the `/scripts/` folder, and the images in `/faces/`"
   ]
  },
  {
   "cell_type": "markdown",
   "id": "61d8d4eb-670d-4f5d-a6f9-27857dd5aae8",
   "metadata": {},
   "source": [
    "#### Useful links\n",
    "- [dlib face landmarks to txt file](https://github.com/spmallick/dlib/blob/master/examples/face_landmark_detection_to_file.cpp)\n",
    "- [faceAverage1](https://github.com/spmallick/learnopencv/tree/master/FaceAverage) + [its article](https://learnopencv.com/average-face-opencv-c-python-tutorial/)\n",
    "- [faceAverage2](https://github.com/stekhn/average-faces-opencv) \n",
    "\n",
    "#### Datasets available at Idiap:\n",
    " - [Metfaces](https://github.com/NVlabs/metfaces-dataset/)\n",
    " - [FaceSynthetics](https://github.com/microsoft/FaceSynthetics)"
   ]
  },
  {
   "cell_type": "markdown",
   "id": "e8b3d71f-dd28-4b49-ad2f-967dfe400e87",
   "metadata": {},
   "source": [
    "There are 2 parts to what I'm doing: \n",
    "First, using c++ and dlib, convert an image into the 68 landmarks txt file (a couple examples in `/faces/`).\n",
    "\n",
    "Then, use the python script to normalize all the faces + calculate their average, output will be saved in `/output/` with the date as title (for future reference)"
   ]
  },
  {
   "cell_type": "code",
   "execution_count": 1,
   "id": "36169db9-9d83-439d-bb67-69c231afc6ab",
   "metadata": {},
   "outputs": [
    {
     "data": {
      "text/plain": "[[(361, 578),\n  (366, 666),\n  (372, 754),\n  (389, 842),\n  (423, 925),\n  (475, 998),\n  (537, 1061),\n  (607, 1110),\n  (688, 1122),\n  (774, 1103),\n  (847, 1045),\n  (912, 977),\n  (966, 901),\n  (995, 820),\n  (1009, 732),\n  (1011, 645),\n  (1012, 558),\n  (429, 538),\n  (466, 489),\n  (526, 470),\n  (590, 472),\n  (650, 491),\n  (737, 487),\n  (795, 467),\n  (858, 465),\n  (917, 486),\n  (952, 533),\n  (693, 540),\n  (693, 596),\n  (693, 651),\n  (693, 710),\n  (609, 742),\n  (650, 750),\n  (693, 761),\n  (734, 748),\n  (773, 737),\n  (504, 558),\n  (537, 541),\n  (572, 539),\n  (607, 557),\n  (572, 560),\n  (538, 562),\n  (778, 555),\n  (815, 535),\n  (850, 537),\n  (886, 556),\n  (850, 559),\n  (814, 557),\n  (526, 846),\n  (577, 819),\n  (643, 811),\n  (692, 819),\n  (739, 809),\n  (800, 814),\n  (851, 834),\n  (802, 900),\n  (742, 935),\n  (692, 942),\n  (641, 937),\n  (577, 906),\n  (539, 848),\n  (644, 832),\n  (693, 838),\n  (740, 830),\n  (836, 838),\n  (740, 892),\n  (691, 901),\n  (642, 896)],\n [(330, 660),\n  (340, 724),\n  (350, 785),\n  (365, 847),\n  (391, 905),\n  (431, 957),\n  (478, 1002),\n  (526, 1044),\n  (583, 1054),\n  (643, 1040),\n  (706, 996),\n  (772, 950),\n  (824, 895),\n  (858, 829),\n  (868, 758),\n  (867, 684),\n  (869, 605),\n  (350, 608),\n  (370, 576),\n  (408, 562),\n  (451, 561),\n  (493, 572),\n  (582, 564),\n  (627, 545),\n  (674, 539),\n  (722, 547),\n  (761, 571),\n  (539, 627),\n  (540, 674),\n  (540, 721),\n  (541, 769),\n  (502, 797),\n  (526, 804),\n  (552, 809),\n  (579, 798),\n  (605, 789),\n  (407, 642),\n  (429, 626),\n  (460, 623),\n  (486, 640),\n  (460, 648),\n  (430, 650),\n  (620, 630),\n  (644, 610),\n  (674, 607),\n  (703, 622),\n  (678, 632),\n  (648, 633),\n  (479, 868),\n  (505, 853),\n  (534, 846),\n  (560, 851),\n  (591, 842),\n  (630, 842),\n  (669, 853),\n  (635, 893),\n  (598, 912),\n  (566, 917),\n  (537, 915),\n  (507, 902),\n  (492, 866),\n  (536, 858),\n  (562, 860),\n  (593, 855),\n  (656, 853),\n  (595, 886),\n  (563, 891),\n  (535, 888)],\n [(398, 556),\n  (406, 618),\n  (415, 681),\n  (423, 741),\n  (439, 801),\n  (474, 852),\n  (524, 892),\n  (586, 921),\n  (656, 925),\n  (727, 909),\n  (792, 875),\n  (847, 831),\n  (886, 775),\n  (901, 708),\n  (902, 638),\n  (900, 569),\n  (900, 501),\n  (430, 503),\n  (446, 460),\n  (485, 436),\n  (532, 429),\n  (575, 442),\n  (656, 439),\n  (697, 417),\n  (745, 414),\n  (790, 428),\n  (821, 460),\n  (618, 486),\n  (621, 529),\n  (623, 572),\n  (626, 617),\n  (585, 648),\n  (609, 655),\n  (635, 661),\n  (661, 648),\n  (686, 635),\n  (490, 514),\n  (513, 495),\n  (540, 491),\n  (567, 507),\n  (542, 513),\n  (515, 516),\n  (689, 494),\n  (715, 471),\n  (743, 467),\n  (768, 483),\n  (746, 488),\n  (718, 492),\n  (531, 733),\n  (568, 718),\n  (609, 711),\n  (642, 713),\n  (676, 704),\n  (722, 700),\n  (766, 709),\n  (728, 758),\n  (685, 778),\n  (650, 784),\n  (614, 785),\n  (571, 775),\n  (542, 733),\n  (610, 724),\n  (644, 724),\n  (678, 717),\n  (757, 712),\n  (681, 758),\n  (646, 765),\n  (612, 765)]]"
     },
     "execution_count": 1,
     "metadata": {},
     "output_type": "execute_result"
    }
   ],
   "source": [
    "from scripts.averageFace import *\n",
    "readPoints('faces/')"
   ]
  },
  {
   "cell_type": "code",
   "execution_count": 6,
   "id": "438e680a-9d62-47bf-af87-b30aa79fb795",
   "metadata": {},
   "outputs": [
    {
     "name": "stdout",
     "output_type": "stream",
     "text": [
      "/home/tchanee/Documents/EPFL/BA6/Semester Project/AverageFace report4/scripts/averageFace.py:203: DeprecationWarning: `np.int` is a deprecated alias for the builtin `int`. To silence this warning, use `int` by itself. Doing this will not modify any behavior and is safe. When replacing `np.int`, you may wish to use e.g. `np.int64` or `np.int32` to specify the precision. If you wish to review your current use, check the release note link for additional information.\r\n",
      "Deprecated in NumPy 1.20; for more details and guidance: https://numpy.org/devdocs/release/1.20.0-notes.html#deprecations\r\n",
      "  eyecornerDst = [(np.int(0.3 * w), np.int(h / 3)), (np.int(0.7 * w), np.int(h / 3))]\r\n",
      "/home/tchanee/Documents/EPFL/BA6/Semester Project/AverageFace report4/scripts/averageFace.py:71: DeprecationWarning: `np.int` is a deprecated alias for the builtin `int`. To silence this warning, use `int` by itself. Doing this will not modify any behavior and is safe. When replacing `np.int`, you may wish to use e.g. `np.int64` or `np.int32` to specify the precision. If you wish to review your current use, check the release note link for additional information.\r\n",
      "Deprecated in NumPy 1.20; for more details and guidance: https://numpy.org/devdocs/release/1.20.0-notes.html#deprecations\r\n",
      "  inPts.append([np.int(xin), np.int(yin)])\r\n",
      "/home/tchanee/Documents/EPFL/BA6/Semester Project/AverageFace report4/scripts/averageFace.py:76: DeprecationWarning: `np.int` is a deprecated alias for the builtin `int`. To silence this warning, use `int` by itself. Doing this will not modify any behavior and is safe. When replacing `np.int`, you may wish to use e.g. `np.int64` or `np.int32` to specify the precision. If you wish to review your current use, check the release note link for additional information.\r\n",
      "Deprecated in NumPy 1.20; for more details and guidance: https://numpy.org/devdocs/release/1.20.0-notes.html#deprecations\r\n",
      "  outPts.append([np.int(xout), np.int(yout)])\r\n"
     ]
    }
   ],
   "source": [
    "# %run -i \"/scripts/averageFace.py\"\n",
    "%matplotlib inline\n",
    "!python 'scripts/averageFace.py'"
   ]
  },
  {
   "cell_type": "code",
   "execution_count": 2,
   "id": "680ad236-c6de-4fd5-a71f-f8cb2badaea5",
   "metadata": {},
   "outputs": [],
   "source": []
  },
  {
   "cell_type": "code",
   "execution_count": 2,
   "id": "9ab4f52b-c56b-40d0-b457-dd54320edd75",
   "metadata": {},
   "outputs": [],
   "source": []
  }
 ],
 "metadata": {
  "kernelspec": {
   "display_name": "Python 3 (ipykernel)",
   "language": "python",
   "name": "python3"
  },
  "language_info": {
   "codemirror_mode": {
    "name": "ipython",
    "version": 3
   },
   "file_extension": ".py",
   "mimetype": "text/x-python",
   "name": "python",
   "nbconvert_exporter": "python",
   "pygments_lexer": "ipython3",
   "version": "3.9.7"
  }
 },
 "nbformat": 4,
 "nbformat_minor": 5
}