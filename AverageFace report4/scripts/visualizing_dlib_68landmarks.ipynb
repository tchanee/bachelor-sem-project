{
 "cells": [
  {
   "cell_type": "code",
   "execution_count": null,
   "id": "e715533c-579c-473c-9974-c9f53ee20f39",
   "metadata": {},
   "outputs": [],
   "source": []
  },
  {
   "cell_type": "code",
   "execution_count": 1,
   "id": "d319ac5f-868b-48cc-8f8f-94d75e42425e",
   "metadata": {},
   "outputs": [],
   "source": [
    "from imutils import face_utils\n",
    "import dlib\n",
    "import cv2\n",
    "import os"
   ]
  },
  {
   "cell_type": "code",
   "execution_count": 2,
   "id": "c2e6409d-60d4-4868-bbcb-16f2ccab9d81",
   "metadata": {},
   "outputs": [],
   "source": [
    "p = \"shape_predictor_68_face_landmarks.dat\"\n",
    "detector = dlib.get_frontal_face_detector()\n",
    "predictor = dlib.shape_predictor(p)"
   ]
  },
  {
   "cell_type": "code",
   "execution_count": null,
   "id": "0f04c2cc-691f-4ce2-8bcb-da29a5bd24a6",
   "metadata": {
    "pycharm": {
     "is_executing": true
    }
   },
   "outputs": [],
   "source": [
    "image = cv2.imread(\"output1.jpg\")\n",
    "if image is None:\n",
    "    print(\"bro?\")\n",
    "cv2.imshow(\"Input\", image)\n",
    "print(\"hello\")\n",
    "grey = cv2.cvtColor(image, cv2.COLOR_BGR2GRAY)\n",
    "rects = detector(grey, 0)\n",
    "rect = rects[0]\n",
    "landmarks = predictor(grey , rect)\n",
    "landmarks = face_utils.shape_to_np(landmarks)\n",
    "print(\"hello2\")\n",
    "for (x, y) in landmarks:\n",
    "    cv2.circle(image, (x, y), 2, (0, 255, 0), -1)\n",
    "    \n",
    "cv2.imshow(\"Output\", image)\n",
    "cv2.waitKey(0)\n"
   ]
  },
  {
   "cell_type": "code",
   "execution_count": null,
   "id": "d635f102-ebe5-4b2d-af28-4f5585fc3f97",
   "metadata": {
    "pycharm": {
     "is_executing": true
    }
   },
   "outputs": [],
   "source": [
    "print(\"test\")\n"
   ]
  },
  {
   "cell_type": "code",
   "execution_count": null,
   "outputs": [],
   "source": [],
   "metadata": {
    "collapsed": false,
    "pycharm": {
     "name": "#%%\n",
     "is_executing": true
    }
   }
  }
 ],
 "metadata": {
  "kernelspec": {
   "display_name": "Python 3 (ipykernel)",
   "language": "python",
   "name": "python3"
  },
  "language_info": {
   "codemirror_mode": {
    "name": "ipython",
    "version": 3
   },
   "file_extension": ".py",
   "mimetype": "text/x-python",
   "name": "python",
   "nbconvert_exporter": "python",
   "pygments_lexer": "ipython3",
   "version": "3.9.7"
  }
 },
 "nbformat": 4,
 "nbformat_minor": 5
}