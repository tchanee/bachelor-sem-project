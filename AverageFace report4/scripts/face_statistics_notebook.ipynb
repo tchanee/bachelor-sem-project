{
 "cells": [
  {
   "cell_type": "code",
   "execution_count": 1,
   "metadata": {
    "collapsed": true
   },
   "outputs": [],
   "source": [
    "\n",
    "from imutils import face_utils\n",
    "import dlib\n",
    "import cv2\n",
    "import os\n",
    "import numpy as np\n",
    "from matplotlib import pyplot as plt\n",
    "\n",
    "p = \"shape_predictor_68_face_landmarks.dat\"\n",
    "detector = dlib.get_frontal_face_detector()\n",
    "predictor = dlib.shape_predictor(p)\n",
    "path = '../output/'"
   ]
  },
  {
   "cell_type": "code",
   "execution_count": null,
   "outputs": [],
   "source": [
    "def oklesgo():\n",
    "    for filePath in sorted(os.listdir(path)):\n",
    "\n",
    "        if filePath.endswith(\".jpg\"):\n",
    "            print(path)\n",
    "            print(filePath)\n",
    "            image = cv2.imread(os.path.join(path, filePath))\n",
    "            # convert to floating point?\n",
    "            # image = np.float32(image) / 255.0\n",
    "\n",
    "            # image = imutils.resize(image, 600, 600)\n",
    "            rgb = cv2.cvtColor(image, cv2.COLOR_BGR2RGB)\n",
    "            grey = cv2.cvtColor(image, cv2.COLOR_BGR2GRAY)\n",
    "\n",
    "            rects = detector(rgb, 0)\n",
    "            rects2 = detector(grey, 0)\n",
    "            print(\"Number of faces detected: {}\".format(len(rects2)))\n",
    "            for i, d in enumerate(rects2):\n",
    "                print(\"Detection {}: Left: {} Top: {} Right: {} Bottom: {}\".format(\n",
    "                    i, d.left(), d.top(), d.right(), d.bottom()))\n",
    "            rect = rects[0]\n",
    "            rect2 = rects2[0]\n",
    "            landmarks = predictor(rgb, rect)\n",
    "            landmarks = face_utils.shape_to_np(landmarks)  # these are the 68 landmarks\n",
    "            # print(landmarks)\n",
    "            landmarks2 = predictor(grey, rect2)\n",
    "            landmarks2 = face_utils.shape_to_np(landmarks2)\n",
    "            # print(len(landmarks2))\n",
    "            # print(landmarks2)  # this seems more accurate!\n",
    "            newName = path + filePath + \"G.txt\"\n",
    "            print(newName)\n",
    "            file_object = open(newName, \"w\")\n",
    "            np.savetxt(file_object, landmarks2, fmt=\"%d\", delimiter=\" \")\n",
    "            file_object.close()\n",
    "\n",
    "def read_output_txt(name):\n",
    "    # landmarks = np.loadtxt(name, dtype=int, delimiter='\\n')\n",
    "    # file = open(name, \"r\")\n",
    "    # landmarks = list(map(int, file.read().split(\"\\n\")))\n",
    "    img = cv2.imread(name)\n",
    "    grey = cv2.cvtColor(img, cv2.COLOR_BGR2GRAY)\n",
    "    rects2 = detector(grey, 0)\n",
    "    rect2 = rects2[0]\n",
    "    landmarks2 = predictor(grey, rect2)\n",
    "    landmarks2 = face_utils.shape_to_np(landmarks2)\n",
    "\n",
    "    return landmarks2\n",
    "\n",
    "def euclidean_distance(arr1, arr2):\n",
    "    return np.sqrt((arr1[0] - arr2[0])**2 + (arr1[1] - arr2[1])**2)\n",
    "\n",
    "def find_variance():\n",
    "    return None"
   ],
   "metadata": {
    "collapsed": false,
    "pycharm": {
     "name": "#%%\n"
    }
   }
  },
  {
   "cell_type": "code",
   "execution_count": null,
   "outputs": [],
   "source": [
    "if __name__ == '__main__':\n",
    "    # oklesgo()\n",
    "\n",
    "    landmarks1 = read_output_txt(\"../output/output1.jpg\")\n",
    "    landmarks2 = read_output_txt(\"../output/output2.jpg\")\n",
    "    landmarks3 = read_output_txt(\"../output/output3.jpg\")\n",
    "\n",
    "    # Some statistics that might be interesting:\n",
    "    # Face width: distance of points 6-12, 1-17, 3-15,\n",
    "    # Face length: 8-22 , 10-23\n",
    "    # Mouth width: 49-55\n",
    "    # Mouth length: 52-58\n",
    "\n",
    "    bottom_face_width_array = []\n",
    "    top_face_width_array = []\n",
    "    middle_face_width_array = []\n",
    "    left_eye_face_length_array = []\n",
    "    right_eye_face_length_array = []\n",
    "    mouth_width_array = []\n",
    "    mouth_length_array = []\n",
    "\n",
    "    # Face width\n",
    "    bottom_face_width1 = euclidean_distance(landmarks1[5], landmarks1[11])\n",
    "    bottom_face_width_array.append(bottom_face_width1)\n",
    "\n",
    "    top_face_width1 = euclidean_distance(landmarks1[0], landmarks1[16])\n",
    "    top_face_width_array.append(top_face_width1)\n",
    "\n",
    "    middle_face_width1 = euclidean_distance(landmarks1[2], landmarks1[14])\n",
    "    middle_face_width_array.append(middle_face_width1)\n",
    "\n",
    "    # Face length\n",
    "    left_eye_face_length1 = euclidean_distance(landmarks1[7], landmarks1[21])\n",
    "    left_eye_face_length_array.append(left_eye_face_length1)\n",
    "\n",
    "    right_eye_face_length1 = euclidean_distance(landmarks1[9], landmarks1[22])\n",
    "    right_eye_face_length_array.append(right_eye_face_length1)\n",
    "\n",
    "    # Mouth width && length\n",
    "    mouth_width1 = euclidean_distance(landmarks1[48], landmarks1[54])\n",
    "    mouth_width_array.append(mouth_width1)\n",
    "\n",
    "    mouth_length1 = euclidean_distance(landmarks1[51], landmarks1[57])\n",
    "    mouth_length_array.append(mouth_length1)\n",
    "\n",
    "    # Face width\n",
    "    bottom_face_width2 = euclidean_distance(landmarks2[5], landmarks2[11])\n",
    "    bottom_face_width_array.append(bottom_face_width2)\n",
    "\n",
    "    top_face_width2 = euclidean_distance(landmarks2[0], landmarks2[16])\n",
    "    top_face_width_array.append(top_face_width2)\n",
    "\n",
    "    middle_face_width2 = euclidean_distance(landmarks2[2], landmarks2[14])\n",
    "    middle_face_width_array.append(middle_face_width2)\n",
    "\n",
    "\n",
    "    # Face length\n",
    "    left_eye_face_length2 = euclidean_distance(landmarks2[7], landmarks2[21])\n",
    "    left_eye_face_length_array.append(left_eye_face_length2)\n",
    "\n",
    "    right_eye_face_length2 = euclidean_distance(landmarks2[9], landmarks2[22])\n",
    "    right_eye_face_length_array.append(right_eye_face_length2)\n",
    "\n",
    "\n",
    "    # Mouth width && length\n",
    "    mouth_width2 = euclidean_distance(landmarks2[48], landmarks2[54])\n",
    "    mouth_width_array.append(mouth_width2)\n",
    "\n",
    "    mouth_length2 = euclidean_distance(landmarks2[51], landmarks2[57])\n",
    "    mouth_length_array.append(mouth_length2)\n",
    "\n",
    "    # Face width\n",
    "    bottom_face_width3 = euclidean_distance(landmarks3[5], landmarks3[11])\n",
    "    bottom_face_width_array.append(bottom_face_width3)\n",
    "\n",
    "    top_face_width3 = euclidean_distance(landmarks3[0], landmarks3[16])\n",
    "    top_face_width_array.append(top_face_width3)\n",
    "\n",
    "    middle_face_width3 = euclidean_distance(landmarks3[2], landmarks3[14])\n",
    "    middle_face_width_array.append(middle_face_width3)\n",
    "\n",
    "\n",
    "    # Face length\n",
    "    left_eye_face_length3 = euclidean_distance(landmarks3[7], landmarks3[21])\n",
    "    left_eye_face_length_array.append(left_eye_face_length3)\n",
    "\n",
    "    right_eye_face_length3 = euclidean_distance(landmarks3[9], landmarks3[22])\n",
    "    right_eye_face_length_array.append(right_eye_face_length3)\n",
    "\n",
    "\n",
    "    # Mouth width && length\n",
    "    mouth_width3 = euclidean_distance(landmarks3[48], landmarks3[54])\n",
    "    mouth_width_array.append(mouth_width3)\n",
    "\n",
    "    mouth_length3 = euclidean_distance(landmarks3[51], landmarks3[57])\n",
    "    mouth_length_array.append(mouth_length3)"
   ],
   "metadata": {
    "collapsed": false,
    "pycharm": {
     "name": "#%%\n"
    }
   }
  },
  {
   "cell_type": "code",
   "execution_count": null,
   "outputs": [],
   "source": [
    "    # Calculating the means\n",
    "    bottom_face_width_mean = np.mean(bottom_face_width_array)\n",
    "    top_face_width_mean = np.mean(top_face_width_array)\n",
    "    middle_face_width_mean = np.mean(middle_face_width_array)\n",
    "    left_eye_face_length_mean = np.mean(left_eye_face_length_array)\n",
    "    right_eye_face_length_mean = np.mean(right_eye_face_length_array)\n",
    "    mouth_width_mean = np.mean(mouth_width_array)\n",
    "    mouth_length_mean = np.mean(mouth_length_array)"
   ],
   "metadata": {
    "collapsed": false,
    "pycharm": {
     "name": "#%%\n"
    }
   }
  },
  {
   "cell_type": "code",
   "execution_count": 3,
   "outputs": [],
   "source": [
    "    # Calculating the variances\n",
    "    bottom_face_width_var = np.var(bottom_face_width_array)\n",
    "    top_face_width_var = np.var(top_face_width_array)\n",
    "    middle_face_width_var = np.var(middle_face_width_array)\n",
    "    left_eye_face_length_var = np.var(left_eye_face_length_array)\n",
    "    right_eye_face_length_var = np.var(right_eye_face_length_array)\n",
    "    mouth_width_var = np.var(mouth_width_array)\n",
    "    mouth_length_var = np.var(mouth_length_array)\n"
   ],
   "metadata": {
    "collapsed": false,
    "pycharm": {
     "name": "#%%\n"
    }
   }
  },
  {
   "cell_type": "code",
   "execution_count": 5,
   "outputs": [],
   "source": [
    "    # Zucc's turn\n",
    "    zuccmark = read_output_txt(\"../output/zucc.jpg\")\n",
    "\n",
    "    zucc_bottom_face_width = euclidean_distance(zuccmark[5], zuccmark[11])\n",
    "    zucc_top_face_width = euclidean_distance(zuccmark[0], zuccmark[16])\n",
    "    zucc_middle_face_width = euclidean_distance(zuccmark[2], zuccmark[14])\n",
    "    # Face length\n",
    "    zucc_left_eye_face_length = euclidean_distance(zuccmark[7], zuccmark[21])\n",
    "    zucc_right_eye_face_length = euclidean_distance(zuccmark[9], zuccmark[22])\n",
    "    # Mouth width && length\n",
    "    zucc_mouth_width = euclidean_distance(zuccmark[48], zuccmark[54])\n",
    "    zucc_mouth_length = euclidean_distance(zuccmark[51], zuccmark[57])"
   ],
   "metadata": {
    "collapsed": false,
    "pycharm": {
     "name": "#%%\n"
    }
   }
  },
  {
   "cell_type": "code",
   "execution_count": 24,
   "outputs": [
    {
     "name": "stdout",
     "output_type": "stream",
     "text": [
      "418.0390398081968\n",
      "962.4993506491317\n"
     ]
    },
    {
     "data": {
      "text/plain": "<Figure size 432x288 with 1 Axes>",
      "image/png": "[encoded data removed]"
     },
     "metadata": {
      "needs_background": "light"
     },
     "output_type": "display_data"
    }
   ],
   "source": [
    "    # Plotting the means\n",
    "    print(top_face_width_mean)\n",
    "    print(zucc_top_face_width)\n",
    "    plt.bar(middle_face_width_mean, [0, 1000], color='b', align='center')\n",
    "    plt.bar(zucc_middle_face_width, [0, 1000], color='g')\n",
    "    plt.show()\n",
    "    # plt.plot(top_face_width_mean, zucc_top_face_width)\n"
   ],
   "metadata": {
    "collapsed": false,
    "pycharm": {
     "name": "#%%\n"
    }
   }
  },
  {
   "cell_type": "code",
   "execution_count": null,
   "outputs": [],
   "source": [
    "\n",
    "    # Plotting the vars\n"
   ],
   "metadata": {
    "collapsed": false,
    "pycharm": {
     "name": "#%%\n"
    }
   }
  },
  {
   "cell_type": "code",
   "execution_count": null,
   "outputs": [],
   "source": [],
   "metadata": {
    "collapsed": false,
    "pycharm": {
     "name": "#%%\n"
    }
   }
  }
 ],
 "metadata": {
  "kernelspec": {
   "display_name": "Python 3",
   "language": "python",
   "name": "python3"
  },
  "language_info": {
   "codemirror_mode": {
    "name": "ipython",
    "version": 2
   },
   "file_extension": ".py",
   "mimetype": "text/x-python",
   "name": "python",
   "nbconvert_exporter": "python",
   "pygments_lexer": "ipython2",
   "version": "2.7.6"
  }
 },
 "nbformat": 4,
 "nbformat_minor": 0
}